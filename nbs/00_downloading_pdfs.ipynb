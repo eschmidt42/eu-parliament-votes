{
 "cells": [
  {
   "cell_type": "code",
   "execution_count": null,
   "metadata": {},
   "outputs": [],
   "source": [
    "#default_exp download"
   ]
  },
  {
   "cell_type": "markdown",
   "metadata": {},
   "source": [
    "# Downloading PDFs for Roll Call votes\n",
    "> The roll call votes of the plenary of the EU parliament are stored freely available online. So let's go and collect them with `requests` and `bs4`."
   ]
  },
  {
   "cell_type": "code",
   "execution_count": null,
   "metadata": {},
   "outputs": [],
   "source": [
    "#hide\n",
    "%load_ext autoreload\n",
    "%autoreload 2"
   ]
  },
  {
   "cell_type": "markdown",
   "metadata": {},
   "source": [
    "TODO:\n",
    "* enable downloading to a folder with a timestamp (prevents that information is lost in the case that the file behind the same URL is actually changed over time)"
   ]
  },
  {
   "cell_type": "code",
   "execution_count": null,
   "metadata": {},
   "outputs": [],
   "source": [
    "#export\n",
    "from pathlib import Path\n",
    "import requests\n",
    "import re\n",
    "from bs4 import BeautifulSoup\n",
    "import typing\n",
    "import time\n",
    "import tqdm\n",
    "import sys\n",
    "from loguru import logger"
   ]
  },
  {
   "cell_type": "code",
   "execution_count": null,
   "metadata": {},
   "outputs": [],
   "source": [
    "#hide\n",
    "logger.add(sys.stderr, level='DEBUG')"
   ]
  },
  {
   "cell_type": "markdown",
   "metadata": {},
   "source": [
    "Defining the site where everything is stored"
   ]
  },
  {
   "cell_type": "code",
   "execution_count": null,
   "metadata": {},
   "outputs": [],
   "source": [
    "#export\n",
    "URL = 'https://www.europarl.europa.eu/plenary/en/votes.html?tab=votes'\n",
    "PDF_PATH = Path(\"../pdfs\")"
   ]
  },
  {
   "cell_type": "markdown",
   "metadata": {},
   "source": [
    "Identifying the links"
   ]
  },
  {
   "cell_type": "code",
   "execution_count": null,
   "metadata": {},
   "outputs": [],
   "source": [
    "#export\n",
    "def identify_links_for_pdfs(url:str, bs_parser:str='lxml'):\n",
    "    'There are RCV (Roll Call Vote) and VOT PDF files. Links for both are extracted.'\n",
    "    \n",
    "    with requests.Session() as s:\n",
    "        res = s.get(url)\n",
    "\n",
    "    soup = BeautifulSoup(res.text, features=bs_parser)\n",
    "\n",
    "    elements_with_pdf = soup.find_all(name='a', attrs={'class':'link_pdf'})\n",
    "    pattern = re.compile(r'RCV\\w*\\.pdf')\n",
    "    \n",
    "    rcv_pdfs = [element['href'] for element in elements_with_pdf if pattern.search(element['href'])]\n",
    "    vot_pdfs = [element['href'] for element in elements_with_pdf if pattern.search(element['href']) is None]\n",
    "    \n",
    "    return rcv_pdfs, vot_pdfs"
   ]
  },
  {
   "cell_type": "code",
   "execution_count": null,
   "metadata": {},
   "outputs": [],
   "source": [
    "%%time\n",
    "rcv_pdfs, vot_pdfs = identify_links_for_pdfs(URL)"
   ]
  },
  {
   "cell_type": "code",
   "execution_count": null,
   "metadata": {},
   "outputs": [],
   "source": [
    "#hide\n",
    "assert len(rcv_pdfs) == len(vot_pdfs)\n",
    "assert len(rcv_pdfs) > 0\n",
    "assert all([f.endswith('pdf') for f in rcv_pdfs])"
   ]
  },
  {
   "cell_type": "code",
   "execution_count": null,
   "metadata": {},
   "outputs": [],
   "source": [
    "#export\n",
    "def download_file(link:str, file_dir:Path=PDF_PATH):\n",
    "    'Given a valid URL a file is downloaded.'\n",
    "    \n",
    "    filename = link.split('/')[-1]\n",
    "    \n",
    "    r = requests.get(link, allow_redirects=True)\n",
    "    \n",
    "    logger.debug(f'Writing to {file_dir/filename}')\n",
    "    with open(file_dir/filename, 'wb') as f:\n",
    "        f.write(r.content)"
   ]
  },
  {
   "cell_type": "code",
   "execution_count": null,
   "metadata": {},
   "outputs": [],
   "source": [
    "%%time\n",
    "link = rcv_pdfs[0]\n",
    "download_file(link)"
   ]
  },
  {
   "cell_type": "markdown",
   "metadata": {},
   "source": [
    "Collecting all files"
   ]
  },
  {
   "cell_type": "code",
   "execution_count": null,
   "metadata": {},
   "outputs": [],
   "source": [
    "#export\n",
    "def collect_multiple_files(links:typing.List[str], file_dir:Path=PDF_PATH, dt:float=.5):\n",
    "    for link in tqdm.tqdm(links, total=len(links), desc='File'):\n",
    "        time.sleep(dt)\n",
    "        download_file(link, file_dir)"
   ]
  },
  {
   "cell_type": "code",
   "execution_count": null,
   "metadata": {},
   "outputs": [],
   "source": [
    "%%time\n",
    "collect_multiple_files(rcv_pdfs, dt=.01)"
   ]
  },
  {
   "cell_type": "code",
   "execution_count": null,
   "metadata": {},
   "outputs": [],
   "source": []
  }
 ],
 "metadata": {
  "kernelspec": {
   "display_name": "Python [conda env:py38_pdf_docs]",
   "language": "python",
   "name": "conda-env-py38_pdf_docs-py"
  }
 },
 "nbformat": 4,
 "nbformat_minor": 4
}
