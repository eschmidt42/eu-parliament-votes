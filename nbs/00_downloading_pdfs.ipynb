{
 "cells": [
  {
   "cell_type": "code",
   "execution_count": null,
   "metadata": {},
   "outputs": [],
   "source": [
    "#default_exp download"
   ]
  },
  {
   "cell_type": "markdown",
   "metadata": {},
   "source": [
    "# Downloading PDFs for Roll Call votes\n",
    "> Yup"
   ]
  }
 ],
 "metadata": {
  "kernelspec": {
   "display_name": "Python [conda env:py38_pdf_docs]",
   "language": "python",
   "name": "conda-env-py38_pdf_docs-py"
  }
 },
 "nbformat": 4,
 "nbformat_minor": 4
}
