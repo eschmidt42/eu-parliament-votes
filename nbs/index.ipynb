{
 "cells": [
  {
   "cell_type": "markdown",
   "metadata": {},
   "source": [
    "# Making sense of EU Parliament Plenary roll call vote PDFs\n",
    "> Ever wondered if you could visualise the voting behavior of MEPs in the EU Plenary yourself somehow? Wonder no longer! With this repo this is now a thing, well perhaps ... mostly I think ... "
   ]
  },
  {
   "cell_type": "code",
   "execution_count": null,
   "metadata": {},
   "outputs": [],
   "source": [
    "#hide\n",
    "%load_ext autoreload\n",
    "%autoreload 2"
   ]
  },
  {
   "cell_type": "code",
   "execution_count": null,
   "metadata": {},
   "outputs": [],
   "source": [
    "from eu_parliament import download"
   ]
  },
  {
   "cell_type": "code",
   "execution_count": null,
   "metadata": {},
   "outputs": [],
   "source": [
    "#hide\n",
    "from loguru import logger\n",
    "import sys\n",
    "logger.remove()\n",
    "logger.add(sys.stderr, level='INFO')"
   ]
  },
  {
   "cell_type": "markdown",
   "metadata": {},
   "source": [
    "## Context"
   ]
  },
  {
   "cell_type": "markdown",
   "metadata": {},
   "source": [
    "Currently this repo is using PyPDF2 to parse PDFs behind _[Result of roll call votes available](https://www.europarl.europa.eu/plenary/en/votes.html?tab=votes)_. And the notebook already contains a dazzling Plotly visulisation!"
   ]
  },
  {
   "cell_type": "markdown",
   "metadata": {},
   "source": [
    "**Why?**\n",
    "\n",
    "After watching Nico Semsrott's video on [Silent Minutes, Missing Votes, Shocking Colleagues](https://www.youtube.com/watch?v=Chg4Vublbgk), where he enthusiastically presented a typical call vote PDF, I got demotivated enough to try and ask my PC for help. \n",
    "\n",
    "**State of this**\n",
    "\n",
    "It somehow worked to parse the PDFs, although it was quite a pain. Some very basic insights can probably already be generated across PDF files, although the stability of the parsing was only tested for two PDFs before boredom won out. The parsing with PyPDF2 while convenient seems to have issues with special characters, dropping entire words (like names of MEPs). So some investigation of better practises would be next.\n",
    "\n",
    "**To dos**\n",
    "\n",
    "* Fix the incorrect parsing of MEP names / them being dropped completely.\n",
    "* Plot who tends to vote with whom (does Martin Sonneborn still vote randomly?)\n",
    "* Automate the download of PDFs from the website"
   ]
  },
  {
   "cell_type": "markdown",
   "metadata": {},
   "source": [
    "## How to use"
   ]
  },
  {
   "cell_type": "markdown",
   "metadata": {},
   "source": [
    "### Downloading"
   ]
  },
  {
   "cell_type": "markdown",
   "metadata": {},
   "source": [
    "Collecting the links"
   ]
  },
  {
   "cell_type": "code",
   "execution_count": null,
   "metadata": {},
   "outputs": [],
   "source": [
    "%%time\n",
    "rcv_pdfs, vot_pdfs = download.identify_links_for_pdfs(download.URL)"
   ]
  },
  {
   "cell_type": "markdown",
   "metadata": {},
   "source": [
    "Downloading the roll call pdfs"
   ]
  },
  {
   "cell_type": "code",
   "execution_count": null,
   "metadata": {},
   "outputs": [],
   "source": [
    "%%time\n",
    "download.collect_multiple_files(rcv_pdfs)"
   ]
  },
  {
   "cell_type": "markdown",
   "metadata": {},
   "source": [
    "Downloading the other pdfs"
   ]
  },
  {
   "cell_type": "code",
   "execution_count": null,
   "metadata": {},
   "outputs": [],
   "source": [
    "%%time\n",
    "download.collect_multiple_files(vot_pdfs)"
   ]
  },
  {
   "cell_type": "markdown",
   "metadata": {},
   "source": [
    "### Parsing"
   ]
  },
  {
   "cell_type": "markdown",
   "metadata": {},
   "source": [
    "### Visualising"
   ]
  },
  {
   "cell_type": "code",
   "execution_count": null,
   "metadata": {},
   "outputs": [],
   "source": []
  }
 ],
 "metadata": {
  "kernelspec": {
   "display_name": "Python [conda env:py38_pdf_docs]",
   "language": "python",
   "name": "conda-env-py38_pdf_docs-py"
  }
 },
 "nbformat": 4,
 "nbformat_minor": 2
}
